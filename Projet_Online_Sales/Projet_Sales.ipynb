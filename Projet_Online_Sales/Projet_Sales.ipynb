{
 "cells": [
  {
   "cell_type": "code",
   "execution_count": 2,
   "id": "2689a90b-6150-429b-ad73-cb3eaec3b63f",
   "metadata": {},
   "outputs": [],
   "source": [
    "#Importation des bibliothèques\n",
    "import pandas as pd # Manipulation des données \n",
    "import matplotlib.pyplot as plt # Visualisation \n",
    "\n"
   ]
  },
  {
   "cell_type": "code",
   "execution_count": 4,
   "id": "e1dd5704-d845-4621-8367-dedd5c9fab89",
   "metadata": {},
   "outputs": [],
   "source": [
    "# Charger les données\n",
    "pd.set_option(\"display.max_columns\",None)\n",
    "data=pd.read_csv(\"documents/Online_Sales.csv\")\n",
    "df=data.copy()"
   ]
  },
  {
   "cell_type": "code",
   "execution_count": 6,
   "id": "10634fa3-949e-4744-8487-0cb3e4eec1cd",
   "metadata": {},
   "outputs": [
    {
     "data": {
      "text/html": [
       "<div>\n",
       "<style scoped>\n",
       "    .dataframe tbody tr th:only-of-type {\n",
       "        vertical-align: middle;\n",
       "    }\n",
       "\n",
       "    .dataframe tbody tr th {\n",
       "        vertical-align: top;\n",
       "    }\n",
       "\n",
       "    .dataframe thead th {\n",
       "        text-align: right;\n",
       "    }\n",
       "</style>\n",
       "<table border=\"1\" class=\"dataframe\">\n",
       "  <thead>\n",
       "    <tr style=\"text-align: right;\">\n",
       "      <th></th>\n",
       "      <th>Transaction ID</th>\n",
       "      <th>Date</th>\n",
       "      <th>Product Category</th>\n",
       "      <th>Product Name</th>\n",
       "      <th>Units Sold</th>\n",
       "      <th>Unit Price</th>\n",
       "      <th>Total Revenue</th>\n",
       "      <th>Region</th>\n",
       "      <th>Payment Method</th>\n",
       "    </tr>\n",
       "  </thead>\n",
       "  <tbody>\n",
       "    <tr>\n",
       "      <th>0</th>\n",
       "      <td>10001</td>\n",
       "      <td>2024-01-01</td>\n",
       "      <td>Electronics</td>\n",
       "      <td>iPhone 14 Pro</td>\n",
       "      <td>2</td>\n",
       "      <td>999.99</td>\n",
       "      <td>1999.98</td>\n",
       "      <td>North America</td>\n",
       "      <td>Credit Card</td>\n",
       "    </tr>\n",
       "    <tr>\n",
       "      <th>1</th>\n",
       "      <td>10002</td>\n",
       "      <td>2024-01-02</td>\n",
       "      <td>Home Appliances</td>\n",
       "      <td>Dyson V11 Vacuum</td>\n",
       "      <td>1</td>\n",
       "      <td>499.99</td>\n",
       "      <td>499.99</td>\n",
       "      <td>Europe</td>\n",
       "      <td>PayPal</td>\n",
       "    </tr>\n",
       "    <tr>\n",
       "      <th>2</th>\n",
       "      <td>10003</td>\n",
       "      <td>2024-01-03</td>\n",
       "      <td>Clothing</td>\n",
       "      <td>Levi's 501 Jeans</td>\n",
       "      <td>3</td>\n",
       "      <td>69.99</td>\n",
       "      <td>209.97</td>\n",
       "      <td>Asia</td>\n",
       "      <td>Debit Card</td>\n",
       "    </tr>\n",
       "    <tr>\n",
       "      <th>3</th>\n",
       "      <td>10004</td>\n",
       "      <td>2024-01-04</td>\n",
       "      <td>Books</td>\n",
       "      <td>The Da Vinci Code</td>\n",
       "      <td>4</td>\n",
       "      <td>15.99</td>\n",
       "      <td>63.96</td>\n",
       "      <td>North America</td>\n",
       "      <td>Credit Card</td>\n",
       "    </tr>\n",
       "    <tr>\n",
       "      <th>4</th>\n",
       "      <td>10005</td>\n",
       "      <td>2024-01-05</td>\n",
       "      <td>Beauty Products</td>\n",
       "      <td>Neutrogena Skincare Set</td>\n",
       "      <td>1</td>\n",
       "      <td>89.99</td>\n",
       "      <td>89.99</td>\n",
       "      <td>Europe</td>\n",
       "      <td>PayPal</td>\n",
       "    </tr>\n",
       "  </tbody>\n",
       "</table>\n",
       "</div>"
      ],
      "text/plain": [
       "   Transaction ID        Date Product Category             Product Name  \\\n",
       "0           10001  2024-01-01      Electronics            iPhone 14 Pro   \n",
       "1           10002  2024-01-02  Home Appliances         Dyson V11 Vacuum   \n",
       "2           10003  2024-01-03         Clothing         Levi's 501 Jeans   \n",
       "3           10004  2024-01-04            Books        The Da Vinci Code   \n",
       "4           10005  2024-01-05  Beauty Products  Neutrogena Skincare Set   \n",
       "\n",
       "   Units Sold  Unit Price  Total Revenue         Region Payment Method  \n",
       "0           2      999.99        1999.98  North America    Credit Card  \n",
       "1           1      499.99         499.99         Europe         PayPal  \n",
       "2           3       69.99         209.97           Asia     Debit Card  \n",
       "3           4       15.99          63.96  North America    Credit Card  \n",
       "4           1       89.99          89.99         Europe         PayPal  "
      ]
     },
     "execution_count": 6,
     "metadata": {},
     "output_type": "execute_result"
    }
   ],
   "source": [
    "# Affichage des premières lignes\n",
    "df.head()"
   ]
  },
  {
   "cell_type": "code",
   "execution_count": 8,
   "id": "21cde98b-452a-4ed6-b5a8-0ccd7c1cc6e2",
   "metadata": {},
   "outputs": [
    {
     "data": {
      "text/plain": [
       "(240, 9)"
      ]
     },
     "execution_count": 8,
     "metadata": {},
     "output_type": "execute_result"
    }
   ],
   "source": [
    "df.shape"
   ]
  },
  {
   "cell_type": "code",
   "execution_count": 10,
   "id": "a8ba2c47-96c9-4dc8-9108-c2b154758fda",
   "metadata": {},
   "outputs": [
    {
     "data": {
      "text/plain": [
       "Transaction ID        int64\n",
       "Date                 object\n",
       "Product Category     object\n",
       "Product Name         object\n",
       "Units Sold            int64\n",
       "Unit Price          float64\n",
       "Total Revenue       float64\n",
       "Region               object\n",
       "Payment Method       object\n",
       "dtype: object"
      ]
     },
     "execution_count": 10,
     "metadata": {},
     "output_type": "execute_result"
    }
   ],
   "source": [
    "df.dtypes"
   ]
  },
  {
   "cell_type": "code",
   "execution_count": 12,
   "id": "11fafc0b-38a4-48f8-9a8f-3a972bb39400",
   "metadata": {},
   "outputs": [],
   "source": [
    "df['Date'] = pd.to_datetime(df['Date'])"
   ]
  },
  {
   "cell_type": "code",
   "execution_count": 14,
   "id": "adc12a4b-9246-479f-a266-17c7d75d8bc8",
   "metadata": {},
   "outputs": [
    {
     "data": {
      "text/plain": [
       "Transaction ID               int64\n",
       "Date                datetime64[ns]\n",
       "Product Category            object\n",
       "Product Name                object\n",
       "Units Sold                   int64\n",
       "Unit Price                 float64\n",
       "Total Revenue              float64\n",
       "Region                      object\n",
       "Payment Method              object\n",
       "dtype: object"
      ]
     },
     "execution_count": 14,
     "metadata": {},
     "output_type": "execute_result"
    }
   ],
   "source": [
    "df.dtypes"
   ]
  },
  {
   "cell_type": "code",
   "execution_count": 16,
   "id": "1e788c2f-1cc2-4ca4-8117-e3c3003af4f5",
   "metadata": {},
   "outputs": [
    {
     "name": "stdout",
     "output_type": "stream",
     "text": [
      "0      False\n",
      "1      False\n",
      "2      False\n",
      "3      False\n",
      "4      False\n",
      "       ...  \n",
      "235    False\n",
      "236    False\n",
      "237    False\n",
      "238    False\n",
      "239    False\n",
      "Length: 240, dtype: bool\n",
      "Nombre de duplicatas : 0\n"
     ]
    }
   ],
   "source": [
    "duplicates = df.duplicated() # Vérifier les duplicatas\n",
    "print(duplicates)\n",
    "\n",
    "nombre_duplicatas = duplicates.sum() # Compter le nombre de duplicates\n",
    "print(f\"Nombre de duplicatas : {nombre_duplicatas}\")"
   ]
  },
  {
   "cell_type": "code",
   "execution_count": 18,
   "id": "d39761a7-b309-474e-897e-83c2f6f5d068",
   "metadata": {},
   "outputs": [
    {
     "name": "stdout",
     "output_type": "stream",
     "text": [
      "Transaction ID      0.0\n",
      "Date                0.0\n",
      "Product Category    0.0\n",
      "Product Name        0.0\n",
      "Units Sold          0.0\n",
      "Unit Price          0.0\n",
      "Total Revenue       0.0\n",
      "Region              0.0\n",
      "Payment Method      0.0\n",
      "dtype: float64\n"
     ]
    }
   ],
   "source": [
    "# Compter les valeurs nulles par colonne\n",
    "null_counts = df.isnull().sum()\n",
    "\n",
    "# Calculer la proportion de valeurs nulles \n",
    "proportion_nulls = (null_counts / df.shape[0]) * 100 \n",
    "\n",
    "# Afficher la proportion de valeurs nulles \n",
    "print(proportion_nulls)"
   ]
  },
  {
   "cell_type": "code",
   "execution_count": 20,
   "id": "e1bf5ad2-5a79-4b17-b7c8-1054bc3a79d9",
   "metadata": {},
   "outputs": [],
   "source": [
    "df.drop([\"Transaction ID\"], axis=1, inplace=True)"
   ]
  },
  {
   "cell_type": "code",
   "execution_count": 22,
   "id": "7231befa-55c1-4974-989f-34f4b117b956",
   "metadata": {},
   "outputs": [
    {
     "data": {
      "text/plain": [
       "Index(['Units Sold'], dtype='object')"
      ]
     },
     "metadata": {},
     "output_type": "display_data"
    },
    {
     "data": {
      "text/plain": [
       "Index(['Unit Price', 'Total Revenue'], dtype='object')"
      ]
     },
     "execution_count": 22,
     "metadata": {},
     "output_type": "execute_result"
    }
   ],
   "source": [
    "# Afficher les colonnes numériques \n",
    "\n",
    "display(df.select_dtypes(int).columns)\n",
    "df.select_dtypes(float).columns"
   ]
  },
  {
   "cell_type": "code",
   "execution_count": 24,
   "id": "9a7826b1-c729-4718-abf3-a8cf79b6df72",
   "metadata": {},
   "outputs": [
    {
     "name": "stdout",
     "output_type": "stream",
     "text": [
      "Valeurs négatives par colonne :\n",
      "Unit Price       0\n",
      "Total Revenue    0\n",
      "dtype: int64\n"
     ]
    }
   ],
   "source": [
    "# Colonnes numériques à vérifier \n",
    "cols_to_check = [ \"Unit Price\", \"Total Revenue\"]\n",
    "\n",
    "# Vérifier que toutes les colonnes sont numériques\n",
    "numeric_cols_to_check = df[cols_to_check].select_dtypes(include=['number']).columns\n",
    "\n",
    "# Vérifier s'il y a des colonnes non numériques\n",
    "non_numeric_cols = [col for col in cols_to_check if col not in numeric_cols_to_check]\n",
    "\n",
    "if non_numeric_cols:\n",
    "    print(f\"Les colonnes suivantes ne sont pas numériques et seront ignorées : {non_numeric_cols}\")\n",
    "\n",
    "# Fonction pour vérifier les valeurs négatives\n",
    "def check_negative_values(df, columns_to_check):\n",
    "    negative_values = df[columns_to_check].lt(0).sum()\n",
    "    return negative_values\n",
    "\n",
    "# Appeler la fonction avec seulement les colonnes numériques\n",
    "negative_values_result = check_negative_values(df, numeric_cols_to_check)\n",
    "\n",
    "# Afficher le résultat\n",
    "print(\"Valeurs négatives par colonne :\")\n",
    "print(negative_values_result)"
   ]
  },
  {
   "cell_type": "code",
   "execution_count": 26,
   "id": "11c87724-3240-474c-80f2-20758cc59400",
   "metadata": {},
   "outputs": [],
   "source": [
    "# Enregistrer le DataFrame nettoyé dans un nouveau fichier Excel\n",
    "df.to_excel(\"online_sales_nettoye.xlsx\", index=False)"
   ]
  },
  {
   "cell_type": "code",
   "execution_count": 28,
   "id": "e0df6182-d97d-45b6-acbe-e4b153a51ee3",
   "metadata": {},
   "outputs": [],
   "source": [
    "# Ajouter une colonne 'Month' pour extraire le mois et l'année de la date\n",
    "df['Month'] = df['Date'].dt.to_period('M')"
   ]
  },
  {
   "cell_type": "code",
   "execution_count": 30,
   "id": "cbe9f248-1bc4-4a20-ab76-26983fea0e99",
   "metadata": {},
   "outputs": [
    {
     "data": {
      "text/plain": [
       "<bound method NDFrame.head of           Date Product Category  \\\n",
       "0   2024-01-01      Electronics   \n",
       "1   2024-01-02  Home Appliances   \n",
       "2   2024-01-03         Clothing   \n",
       "3   2024-01-04            Books   \n",
       "4   2024-01-05  Beauty Products   \n",
       "..         ...              ...   \n",
       "235 2024-08-23  Home Appliances   \n",
       "236 2024-08-24         Clothing   \n",
       "237 2024-08-25            Books   \n",
       "238 2024-08-26  Beauty Products   \n",
       "239 2024-08-27           Sports   \n",
       "\n",
       "                                        Product Name  Units Sold  Unit Price  \\\n",
       "0                                      iPhone 14 Pro           2      999.99   \n",
       "1                                   Dyson V11 Vacuum           1      499.99   \n",
       "2                                   Levi's 501 Jeans           3       69.99   \n",
       "3                                  The Da Vinci Code           4       15.99   \n",
       "4                            Neutrogena Skincare Set           1       89.99   \n",
       "..                                               ...         ...         ...   \n",
       "235  Nespresso Vertuo Next Coffee and Espresso Maker           1      159.99   \n",
       "236                        Nike Air Force 1 Sneakers           3       90.00   \n",
       "237           The Handmaid's Tale by Margaret Atwood           3       10.99   \n",
       "238             Sunday Riley Luna Sleeping Night Oil           1       55.00   \n",
       "239                       Yeti Rambler 20 oz Tumbler           2       29.99   \n",
       "\n",
       "     Total Revenue         Region Payment Method    Month  \n",
       "0          1999.98  North America    Credit Card  2024-01  \n",
       "1           499.99         Europe         PayPal  2024-01  \n",
       "2           209.97           Asia     Debit Card  2024-01  \n",
       "3            63.96  North America    Credit Card  2024-01  \n",
       "4            89.99         Europe         PayPal  2024-01  \n",
       "..             ...            ...            ...      ...  \n",
       "235         159.99         Europe         PayPal  2024-08  \n",
       "236         270.00           Asia     Debit Card  2024-08  \n",
       "237          32.97  North America    Credit Card  2024-08  \n",
       "238          55.00         Europe         PayPal  2024-08  \n",
       "239          59.98           Asia    Credit Card  2024-08  \n",
       "\n",
       "[240 rows x 9 columns]>"
      ]
     },
     "execution_count": 30,
     "metadata": {},
     "output_type": "execute_result"
    }
   ],
   "source": [
    "df.head"
   ]
  },
  {
   "cell_type": "code",
   "execution_count": 32,
   "id": "696e45a5-eaa4-410c-b8f6-d91793bd640b",
   "metadata": {},
   "outputs": [
    {
     "data": {
      "image/png": "[encoded data removed]",
      "text/plain": [
       "<Figure size 1000x600 with 1 Axes>"
      ]
     },
     "metadata": {},
     "output_type": "display_data"
    }
   ],
   "source": [
    "# Regrouper les données par mois et calculer le total des ventes (unit sold)\n",
    "monthly_sales = df.groupby('Month')['Units Sold'].sum()\n",
    "\n",
    "# Créer le graphique\n",
    "plt.figure(figsize=(10, 6))\n",
    "monthly_sales.plot(kind='bar', color='orange')\n",
    "\n",
    "# Ajouter des titres et des labels\n",
    "plt.title('Nombre de ventes réalisées par mois', fontsize=16)\n",
    "plt.xlabel('Mois', fontsize=12)\n",
    "plt.ylabel('Nombre de ventes', fontsize=12)\n",
    "plt.xticks(rotation=45)\n",
    "plt.tight_layout()\n",
    "\n",
    "# Afficher le graphique\n",
    "plt.show()"
   ]
  },
  {
   "cell_type": "markdown",
   "id": "97d3e233-ac71-401a-87a7-b1f43a99ea3e",
   "metadata": {},
   "source": [
    "Résultat : Mars est le mois où l'entreprise X a effectué le plus de vente en 2024. On constate qu'il y a une hausse des ventes en début d'année et une baisse après juin."
   ]
  },
  {
   "cell_type": "code",
   "execution_count": null,
   "id": "fe9f5e5b-a082-44f5-a8c3-34973699c32b",
   "metadata": {},
   "outputs": [],
   "source": []
  },
  {
   "cell_type": "code",
   "execution_count": null,
   "id": "d09bc7f1-f368-4e58-8779-17516bbdf0db",
   "metadata": {},
   "outputs": [],
   "source": []
  },
  {
   "cell_type": "code",
   "execution_count": null,
   "id": "531863f3-359f-4dda-8df4-ecbc2cd47747",
   "metadata": {},
   "outputs": [],
   "source": []
  },
  {
   "cell_type": "code",
   "execution_count": null,
   "id": "46027740-784e-47cf-81a5-fb404ccb6f28",
   "metadata": {},
   "outputs": [],
   "source": []
  },
  {
   "cell_type": "code",
   "execution_count": null,
   "id": "03e10e8f-e15d-47c6-9499-0e9a2e8690b1",
   "metadata": {},
   "outputs": [],
   "source": []
  },
  {
   "cell_type": "code",
   "execution_count": null,
   "id": "39caa238-77e1-42ca-9054-ef814f6e7d16",
   "metadata": {},
   "outputs": [],
   "source": []
  },
  {
   "cell_type": "code",
   "execution_count": null,
   "id": "e2de797e-8346-40f1-ac37-0ab8b938fa83",
   "metadata": {},
   "outputs": [],
   "source": []
  },
  {
   "cell_type": "code",
   "execution_count": null,
   "id": "26f970d8-cb65-4d44-b4f7-b0c6141f23ce",
   "metadata": {},
   "outputs": [],
   "source": []
  },
  {
   "cell_type": "code",
   "execution_count": null,
   "id": "ff489eca-5d64-4296-9eed-dba564e1c017",
   "metadata": {},
   "outputs": [],
   "source": []
  },
  {
   "cell_type": "code",
   "execution_count": null,
   "id": "77a4ac12-bd14-4c9a-a675-c2bc44e53d8d",
   "metadata": {},
   "outputs": [],
   "source": []
  },
  {
   "cell_type": "code",
   "execution_count": null,
   "id": "c8d8bb6b-e242-415a-98ed-4820e6292e47",
   "metadata": {},
   "outputs": [],
   "source": []
  },
  {
   "cell_type": "code",
   "execution_count": null,
   "id": "afbdb787-caac-498a-b31e-05172a86452a",
   "metadata": {},
   "outputs": [],
   "source": []
  }
 ],
 "metadata": {
  "kernelspec": {
   "display_name": "Python 3 (ipykernel)",
   "language": "python",
   "name": "python3"
  },
  "language_info": {
   "codemirror_mode": {
    "name": "ipython",
    "version": 3
   },
   "file_extension": ".py",
   "mimetype": "text/x-python",
   "name": "python",
   "nbconvert_exporter": "python",
   "pygments_lexer": "ipython3",
   "version": "3.12.4"
  }
 },
 "nbformat": 4,
 "nbformat_minor": 5
}
